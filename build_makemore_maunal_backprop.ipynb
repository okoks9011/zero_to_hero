{
 "cells": [
  {
   "cell_type": "markdown",
   "id": "0724fcc9",
   "metadata": {},
   "source": [
    "# makemore: becoming a backprop ninja"
   ]
  },
  {
   "cell_type": "code",
   "execution_count": 2,
   "id": "bbec88bc",
   "metadata": {},
   "outputs": [],
   "source": [
    "import torch\n",
    "import torch.nn.functional as F"
   ]
  },
  {
   "cell_type": "code",
   "execution_count": 3,
   "id": "ccc77755",
   "metadata": {},
   "outputs": [],
   "source": [
    "import matplotlib.pyplot as plt\n",
    "%matplotlib inline"
   ]
  },
  {
   "cell_type": "code",
   "execution_count": 4,
   "id": "2ac25608",
   "metadata": {},
   "outputs": [
    {
     "data": {
      "text/plain": [
       "['emma', 'olivia', 'ava', 'isabella', 'sophia', 'charlotte', 'mia', 'amelia']"
      ]
     },
     "execution_count": 4,
     "metadata": {},
     "output_type": "execute_result"
    }
   ],
   "source": [
    "words = open('names.txt', 'r').read().splitlines()\n",
    "words[:8]"
   ]
  },
  {
   "cell_type": "code",
   "execution_count": 5,
   "id": "5f7c5eb6",
   "metadata": {},
   "outputs": [
    {
     "data": {
      "text/plain": [
       "32033"
      ]
     },
     "execution_count": 5,
     "metadata": {},
     "output_type": "execute_result"
    }
   ],
   "source": [
    "len(words)"
   ]
  },
  {
   "cell_type": "code",
   "execution_count": 6,
   "id": "f741d0f9",
   "metadata": {},
   "outputs": [
    {
     "name": "stdout",
     "output_type": "stream",
     "text": [
      "['.', 'a', 'b', 'c', 'd', 'e', 'f', 'g', 'h', 'i', 'j', 'k', 'l', 'm', 'n', 'o', 'p', 'q', 'r', 's', 't', 'u', 'v', 'w', 'x', 'y', 'z']\n"
     ]
    }
   ],
   "source": [
    "chars = ['.'] + sorted(set(''.join(words)))\n",
    "stoi = {s:i for i, s in enumerate(chars)}\n",
    "itos = chars\n",
    "print(chars)\n",
    "vocab_size = len(chars)"
   ]
  },
  {
   "cell_type": "code",
   "execution_count": 7,
   "id": "68c44a3d",
   "metadata": {},
   "outputs": [],
   "source": [
    "from collections import deque"
   ]
  },
  {
   "cell_type": "code",
   "execution_count": 8,
   "id": "955003e7",
   "metadata": {},
   "outputs": [],
   "source": [
    "block_size = 3\n",
    "\n",
    "def build_dataset(words):\n",
    "    X, Y = [], []\n",
    "\n",
    "    for w in words:\n",
    "        # print(w)\n",
    "        context = deque([0] * block_size)\n",
    "        for ch in w + '.':\n",
    "            ix = stoi[ch]\n",
    "            X.append(list(context))\n",
    "            Y.append(ix)\n",
    "            # print(''.join(itos[i] for i in context), '---->', itos[ix])\n",
    "            context.popleft()\n",
    "            context.append(ix)\n",
    "    X = torch.tensor(X)\n",
    "    Y = torch.tensor(Y)\n",
    "    return X, Y\n",
    "\n",
    "g = torch.Generator().manual_seed(2147483647)\n",
    "train_words, dev_words, test_words = torch.utils.data.random_split(words, [0.8, 0.1, 0.1], generator=g)"
   ]
  },
  {
   "cell_type": "code",
   "execution_count": 9,
   "id": "20d3eb4a",
   "metadata": {},
   "outputs": [
    {
     "data": {
      "text/plain": [
       "(25627, 3203, 3203)"
      ]
     },
     "execution_count": 9,
     "metadata": {},
     "output_type": "execute_result"
    }
   ],
   "source": [
    "len(train_words), len(dev_words), len(test_words)"
   ]
  },
  {
   "cell_type": "code",
   "execution_count": 10,
   "id": "afac0019",
   "metadata": {},
   "outputs": [],
   "source": [
    "Xtr, Ytr = build_dataset(train_words)\n",
    "Xdev, Ydev = build_dataset(dev_words)\n",
    "Xtest, Ytest = build_dataset(test_words)"
   ]
  },
  {
   "cell_type": "code",
   "execution_count": 16,
   "id": "9673d32d",
   "metadata": {},
   "outputs": [],
   "source": [
    "n_embed = 10\n",
    "n_hidden = 64\n",
    "\n",
    "g = torch.Generator().manual_seed(2147483647)\n",
    "C = torch.randn((vocab_size, n_embed),           generator=g)\n",
    "# Layer 1\n",
    "W1 = torch.randn((n_embed*block_size, n_hidden), generator=g) * 0.2\n",
    "b1 = torch.randn(n_hidden,                       generator=g) * 0.1\n",
    "# Layer 2\n",
    "W2 = torch.randn((n_hidden, vocab_size),         generator=g) * 0.1\n",
    "b2 = torch.randn(vocab_size,                     generator=g) * 0.1\n",
    "# BatchNorm params\n",
    "bngain = torch.randn((1, n_hidden), generator=g) * 0.1 + 1.0\n",
    "bnbias = torch.randn((1, n_hidden), generator=g) * 0.1\n",
    "\n",
    "bnmean_running = torch.ones((1, n_hidden))\n",
    "bnstd_running = torch.zeros((1, n_hidden))\n",
    "\n",
    "parameters = [C, W1, W2, b2, bngain, bnbias]\n",
    "for p in parameters:\n",
    "    p.requires_grad = True"
   ]
  },
  {
   "cell_type": "code",
   "execution_count": 12,
   "id": "e217997b",
   "metadata": {},
   "outputs": [
    {
     "data": {
      "text/plain": [
       "12097"
      ]
     },
     "execution_count": 12,
     "metadata": {},
     "output_type": "execute_result"
    }
   ],
   "source": [
    "sum(p.nelement() for p in parameters)"
   ]
  },
  {
   "cell_type": "code",
   "execution_count": 15,
   "id": "b8906ecf",
   "metadata": {},
   "outputs": [
    {
     "name": "stdout",
     "output_type": "stream",
     "text": [
      "      0/ 200000: 1.8528\n",
      "  10000/ 200000: 2.4387\n",
      "  20000/ 200000: 2.2693\n",
      "  30000/ 200000: 2.2244\n",
      "  40000/ 200000: 2.0032\n",
      "  50000/ 200000: 2.1466\n",
      "  60000/ 200000: 1.9634\n",
      "  70000/ 200000: 2.2301\n",
      "  80000/ 200000: 2.1237\n",
      "  90000/ 200000: 1.9560\n",
      " 100000/ 200000: 1.9631\n",
      " 110000/ 200000: 1.8676\n",
      " 120000/ 200000: 2.1283\n",
      " 130000/ 200000: 2.3299\n",
      " 140000/ 200000: 1.9709\n",
      " 150000/ 200000: 1.9470\n",
      " 160000/ 200000: 2.5972\n",
      " 170000/ 200000: 2.1323\n",
      " 180000/ 200000: 2.0372\n",
      " 190000/ 200000: 1.9299\n"
     ]
    }
   ],
   "source": [
    "max_steps = 200000\n",
    "batch_size = 32\n",
    "lossi = []\n",
    "\n",
    "for i in range(max_steps):\n",
    "    # minibatch\n",
    "    idx = torch.randint(0, Xtr.shape[0], (batch_size, ), generator=g)\n",
    "    Xb, Yb = Xtr[idx], Ytr[idx]\n",
    "\n",
    "    # forward pass\n",
    "    emb = C[Xb]\n",
    "    embcat = emb.view(emb.shape[0], -1)\n",
    "    hpreact = embcat @ W1\n",
    "    bnmeani = hpreact.mean(0, keepdim=True)\n",
    "    bnstdi = hpreact.std(0, keepdim=True)\n",
    "    hpreact = bngain * (hpreact - bnmeani) / bnstdi + bnbias\n",
    "    with torch.no_grad():\n",
    "        bnmean_running = 0.999 * bnmean_running + 0.001 * bnmeani\n",
    "        bnstd_running = 0.999 * bnstd_running + 0.001 * bnstdi\n",
    "    \n",
    "    h = torch.tanh(hpreact)  # Why tanh here?\n",
    "    logits = h @ W2 + b2\n",
    "    loss = F.cross_entropy(logits, Yb)\n",
    "    \n",
    "    # backward pass\n",
    "    for p in parameters:\n",
    "        p.grad = None  # Warn! typo like `p.gard` doesn't raise an error!!\n",
    "    loss.backward()\n",
    "\n",
    "    # update\n",
    "    lr = 0.1 if i < 100000 else 0.01\n",
    "    for p in parameters:\n",
    "        p.data += -lr * p.grad\n",
    "    if i % 10000 == 0:\n",
    "        print(f'{i:7d}/{max_steps:7d}: {loss.item():.4f}')\n",
    "    lossi.append(loss.log10().item())"
   ]
  },
  {
   "cell_type": "code",
   "execution_count": 14,
   "id": "a146c6a2",
   "metadata": {},
   "outputs": [
    {
     "name": "stdout",
     "output_type": "stream",
     "text": [
      "Train loss: 2.062927722930908\n",
      "Test loss: 2.1066877841949463\n",
      "Dev loss: 2.1133031845092773\n"
     ]
    }
   ],
   "source": [
    "def evaluate(X, Y):\n",
    "    with torch.no_grad():\n",
    "        emb = C[X]\n",
    "        embcat = emb.view(emb.shape[0], -1)\n",
    "        hpreact = embcat @ W1 # + b1\n",
    "        hpreact = bngain * (hpreact - bnmean_running) / bnstd_running + bnbias\n",
    "        h = torch.tanh(hpreact) # Why tanh here?\n",
    "        logits = h @ W2 + b2\n",
    "        loss = F.cross_entropy(logits, Y)\n",
    "        return loss.item()\n",
    "\n",
    "print(f'Train loss: {evaluate(Xtr, Ytr)}')\n",
    "print(f'Test loss: {evaluate(Xtest, Ytest)}')\n",
    "print(f'Dev loss: {evaluate(Xdev, Ydev)}')"
   ]
  },
  {
   "cell_type": "code",
   "execution_count": 42,
   "id": "b753b123",
   "metadata": {},
   "outputs": [
    {
     "name": "stdout",
     "output_type": "stream",
     "text": [
      "surepian.\n",
      "nat.\n",
      "nail.\n",
      "zerik.\n",
      "jayley.\n",
      "mad.\n",
      "rodyanni.\n",
      "ter.\n",
      "carssorer.\n",
      "chan.\n",
      "sharlaya.\n",
      "arahlylan.\n",
      "gena.\n",
      "sem.\n",
      "hendrie.\n",
      "aden.\n",
      "jazya.\n",
      "dalliellarn.\n",
      "kashlyrion.\n",
      "maliikott.\n"
     ]
    }
   ],
   "source": [
    "g = torch.Generator().manual_seed(12345)\n",
    "block_size = 3\n",
    "for _ in range(20):\n",
    "    out = []\n",
    "    context = deque([0] * block_size)\n",
    "    while True:\n",
    "        emb = C[torch.tensor([context])]\n",
    "        h = torch.tanh(emb.view(1, -1) @ W1 + b1)\n",
    "        logits = h @ W2 + b2\n",
    "        probs = F.softmax(logits, dim=1)\n",
    "        ix = torch.multinomial(probs, num_samples=1, generator=g).item()\n",
    "\n",
    "        context.popleft()\n",
    "        context.append(ix)\n",
    "        \n",
    "        out.append(ix)\n",
    "        if ix == 0:\n",
    "            break\n",
    "    print(''.join(itos[i] for i in out))"
   ]
  },
  {
   "cell_type": "code",
   "execution_count": null,
   "id": "480ec971",
   "metadata": {},
   "outputs": [],
   "source": []
  }
 ],
 "metadata": {
  "kernelspec": {
   "display_name": "Python 3 (ipykernel)",
   "language": "python",
   "name": "python3"
  },
  "language_info": {
   "codemirror_mode": {
    "name": "ipython",
    "version": 3
   },
   "file_extension": ".py",
   "mimetype": "text/x-python",
   "name": "python",
   "nbconvert_exporter": "python",
   "pygments_lexer": "ipython3",
   "version": "3.10.9"
  }
 },
 "nbformat": 4,
 "nbformat_minor": 5
}
